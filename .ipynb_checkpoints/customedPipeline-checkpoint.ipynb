{
 "cells": [
  {
   "cell_type": "code",
   "execution_count": 86,
   "id": "559ba734",
   "metadata": {},
   "outputs": [],
   "source": [
    "import torch\n",
    "from transformers import AutoModelForCausalLM, AutoTokenizer, pipeline"
   ]
  },
  {
   "cell_type": "code",
   "execution_count": 87,
   "id": "c36e2196",
   "metadata": {},
   "outputs": [],
   "source": [
    "messages = [[\n",
    "    {\"role\": \"user\", \"content\": \"Can you provide ways to eat combinations of bananas and dragonfruits?\"},\n",
    "    {\"role\": \"assistant\", \"content\": \"Sure! Here are some ways to eat bananas and dragonfruits together: 1. Banana and dragonfruit smoothie: Blend bananas and dragonfruits together with some milk and honey. 2. Banana and dragonfruit salad: Mix sliced bananas and dragonfruits together with some lemon juice and honey.\"},\n",
    "    {\"role\": \"user\", \"content\": \"What about solving an 2x + 3 = 7 equation?\"},\n",
    "],\n",
    "[{\"role\": \"user\", \"content\": \"Can you provide ways to eat combinations of bananas and dragonfruits?\"}]]"
   ]
  },
  {
   "cell_type": "code",
   "execution_count": 88,
   "id": "f63636ed",
   "metadata": {},
   "outputs": [
    {
     "data": {
      "application/vnd.jupyter.widget-view+json": {
       "model_id": "5a0f111b94604234812377f06fd39967",
       "version_major": 2,
       "version_minor": 0
      },
      "text/plain": [
       "Loading checkpoint shards:   0%|          | 0/2 [00:00<?, ?it/s]"
      ]
     },
     "metadata": {},
     "output_type": "display_data"
    },
    {
     "name": "stdout",
     "output_type": "stream",
     "text": [
      "[[{'generated_text': ' To solve the equation 2x + 3 = 7, follow these steps:\\n\\n1. Subtract 3 from both sides of the equation: 2x + 3 - 3 = 7 - 3\\n2. Simplify: 2x = 4\\n3. Divide both sides by 2: 2x/2 = 4/2\\n4. Simplify: x = 2\\n\\nThe solution to the equation 2x + 3 = 7 is x = 2.'}], [{'generated_text': ' Certainly! Bananas and dragonfruits can be combined in various delicious ways. Here are some creative ideas for incorporating these fruits into your diet:\\n\\n1. Smoothie: Blend together a ripe banana, a few slices of dragon fruit, a handful of spinach or kale, a tablespoon of chia seeds, and a splash of almond milk or coconut water. Add a sweetener like honey or agave syrup if desired.\\n\\n2. Fruit salad: Slice a banana and a dragon fruit into bite-sized pieces. Toss them together with other fruits like strawberries, blueberries, and kiwi. Drizzle with a squeeze of lime juice and a sprinkle of fresh mint leaves for added flavor.\\n\\n3. Tropical fruit bowl: Arrange slices of banana and dragon fruit on a bed of mixed greens or a bed of quinoa. Add other tropical fruits like mango, pineapple, and papaya for a colorful and nutritious bowl.\\n\\n4. Dragon fruit and banana sushi: Cut a ripe banana and a dragon fruit into thin slices. Lay the banana slices on a sheet of nori (seaweed) and top with dragon fruit slices. Roll the nori tightly and slice into bite-sized pieces. Serve with soy sauce or a drizzle of honey for dipping.\\n\\n5. Banana and dragon fruit pancakes: Make your favorite pancake batter and add mashed banana and diced dragon fruit to the mixture. Cook the pancakes as usual and serve with a drizzle of maple syrup or a dollop of Greek yogurt.\\n\\n6. Dragon fruit and banana smoothie bowl: Blend together a ripe banana, a few slices of dragon fruit, a handful of spinach or kale, a tablespoon of chia seeds, and a splash of almond milk or coconut water. Pour the mixture into a bowl and top with sliced banana, dragon fruit, granola'}]]\n"
     ]
    }
   ],
   "source": [
    "import gc\n",
    "gc.collect()\n",
    "\n",
    "torch.random.manual_seed(0)\n",
    "model_id = \"microsoft/Phi-3-mini-4k-instruct\"\n",
    "model = AutoModelForCausalLM.from_pretrained(\n",
    "    model_id,\n",
    "    device_map=\"cuda\", \n",
    "    torch_dtype=\"auto\", \n",
    "    trust_remote_code=True, \n",
    ")\n",
    "tokenizer = AutoTokenizer.from_pretrained(model_id)\n",
    "\n",
    "pipe = pipeline(\n",
    "    \"text-generation\",\n",
    "    model=model,\n",
    "    tokenizer=tokenizer,\n",
    ")\n",
    "\n",
    "generation_args = {\n",
    "    \"max_new_tokens\": 500,\n",
    "    \"return_full_text\": False,\n",
    "    \"temperature\": 0.0,\n",
    "    \"do_sample\": False,\n",
    "}\n",
    "\n",
    "output = pipe(messages, **generation_args)\n",
    "print(output)"
   ]
  },
  {
   "cell_type": "code",
   "execution_count": 89,
   "id": "c8fd14dc",
   "metadata": {},
   "outputs": [],
   "source": [
    "class CustomedPipeline():\n",
    "    def __init__(\n",
    "            self,\n",
    "            config,\n",
    "            model_id = \"microsoft/Phi-3-mini-4k-instruct\"\n",
    "            device = \"cuda\"\n",
    "        ):\n",
    "        self.config = config\n",
    "        self.tokenizer = AutoTokenizer.from_pretrained(model_id)\n",
    "        self.model =  CustomedPhi3ForCausalLM(self.tokenizer, self.config)\n",
    "        \n",
    "    def preprocess(\n",
    "            self,\n",
    "            prompt_text,\n",
    "            prefix=\"\",\n",
    "            handle_long_generation=None,\n",
    "            add_special_tokens=None\n",
    "            ):\n",
    "        \n",
    "        inputs = self.tokenizer.apply_chat_template(\n",
    "                prompt_text,\n",
    "                add_generation_prompt=True,\n",
    "                tokenize=True,\n",
    "                return_tensors=\"pt\",\n",
    "            return_dict=True,\n",
    "                padding=True\n",
    "            ).to('cuda')\n",
    "        inputs['prompts'] = inputs['input_ids'].shape[-1]\n",
    "\n",
    "        return inputs\n",
    "    \n",
    "    def forward(self, model_inputs, max_length = 500):\n",
    "        input_ids = model_inputs['input_ids']\n",
    "        attention_mask = model_inputs['attention_mask']\n",
    "        prompt_len = model_inputs['prompts']\n",
    "\n",
    "        generated_sequence = self.model.generate(input_ids=input_ids, attention_mask=attention_mask,max_length=max_length)\n",
    "        return {\"generated_sequence\": generated_sequence, \"prompt_len\" :prompt_len}\n",
    "\n",
    "    def postprocess(self, model_outputs, clean_up_tokenization_spaces=True):\n",
    "        generated_sequence = model_outputs[\"generated_sequence\"]\n",
    "        prompt_len = model_outputs[\"prompt_len\"]\n",
    "        \n",
    "        result = []\n",
    "        \n",
    "        for i, text in enumerate(generated_sequence):\n",
    "            eos_pos = (text == self.tokenizer.eos_token_id).nonzero(as_tuple=True)[0]\n",
    "  \n",
    "            if len(eos_pos) > 0:\n",
    "                eos_after_prompt = next((pos.item() for pos in eos_pos if pos.item() > prompt_len), None)\n",
    "\n",
    "                if eos_after_prompt is not None:\n",
    "                    text = text[prompt_len:eos_after_prompt-1]\n",
    "                else:\n",
    "                    text = text[prompt_len:]\n",
    "            else:\n",
    "                text = text[prompt_len:]\n",
    "                \n",
    "            #decoded_text = self.tokenizer.decode(text, skip_special_tokens=True)\n",
    "            decoded_text = self.tokenizer.decode(text)\n",
    "            result.append([{'generated':decoded_text}])\n",
    "\n",
    "        return result"
   ]
  },
  {
   "cell_type": "code",
   "execution_count": 90,
   "id": "042624d4",
   "metadata": {},
   "outputs": [
    {
     "data": {
      "application/vnd.jupyter.widget-view+json": {
       "model_id": "04709dc87a3644b78b507a38629af922",
       "version_major": 2,
       "version_minor": 0
      },
      "text/plain": [
       "Loading checkpoint shards:   0%|          | 0/2 [00:00<?, ?it/s]"
      ]
     },
     "metadata": {},
     "output_type": "display_data"
    }
   ],
   "source": [
    "gc.collect()\n",
    "pipe = CustomedPipeline()"
   ]
  },
  {
   "cell_type": "code",
   "execution_count": 91,
   "id": "40b37afe",
   "metadata": {},
   "outputs": [
    {
     "name": "stdout",
     "output_type": "stream",
     "text": [
      "[[{'generated': 'To solve the equation 2x + 3 = 7, follow these steps:\\n\\n1. Subtract 3 from both sides of the equation:\\n   2x + 3 - 3 = 7 - 3\\n   2x = 4\\n\\n2. Divide both sides of the equation by 2:\\n   2x/2 = 4/2\\n   x = 2\\n\\nSo, the solution to the equation 2x + 3 = 7 is x = 2.'}], [{'generated': 'Certainly! Bananas and dragonfruits can be combined in various delicious ways. Here are some creative ideas for incorporating these fruits into your diet:\\n\\n1. Smoothie: Blend together a ripe banana, a few slices of dragon fruit, a handful of spinach or kale, a tablespoon of chia seeds, and a splash of almond milk or coconut water. Add a sweetener like honey or agave syrup if desired.\\n\\n2. Fruit salad: Slice a banana and a dragon fruit into bite-sized pieces and mix them together with other fruits like strawberries, blueberries, and kiwi. Drizzle with a squeeze of lime juice and a sprinkle of fresh mint leaves for added flavor.\\n\\n3. Tropical fruit bowl: Arrange slices of banana and dragon fruit on a platter, along with other tropical fruits like mango, pineapple, and papaya. Drizzle with a honey-lime dressing and garnish with toasted coconut flakes.\\n\\n4. Dragon fruit and banana sushi: Cut a ripe banana and a dragon fruit into thin slices. Lay the banana slices on a sheet of nori (seaweed) and top with dragon fruit slices. Roll the nori tightly and slice into bite-sized pieces. Serve with soy sauce or a drizzle of wasabi mayo.\\n\\n5. Banana and dragon fruit pancakes: Make your favorite pancake batter and add mashed banana and pureed drag'}]]\n"
     ]
    }
   ],
   "source": [
    "inputs = pipe.preprocess(messages)\n",
    "outputs = pipe.forward(inputs)\n",
    "result = pipe.postprocess(outputs)\n",
    "print(result)"
   ]
  },
  {
   "cell_type": "code",
   "execution_count": null,
   "id": "c6262154",
   "metadata": {},
   "outputs": [],
   "source": []
  }
 ],
 "metadata": {
  "kernelspec": {
   "display_name": "Python [conda env:ss] *",
   "language": "python",
   "name": "conda-env-ss-py"
  },
  "language_info": {
   "codemirror_mode": {
    "name": "ipython",
    "version": 3
   },
   "file_extension": ".py",
   "mimetype": "text/x-python",
   "name": "python",
   "nbconvert_exporter": "python",
   "pygments_lexer": "ipython3",
   "version": "3.11.9"
  }
 },
 "nbformat": 4,
 "nbformat_minor": 5
}
